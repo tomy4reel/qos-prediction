{
 "cells": [
  {
   "cell_type": "code",
   "execution_count": 2,
   "id": "367cfd4c",
   "metadata": {
    "execution": {
     "iopub.execute_input": "2023-07-13T10:46:56.658516Z",
     "iopub.status.busy": "2023-07-13T10:46:56.657943Z",
     "iopub.status.idle": "2023-07-13T10:46:58.668621Z",
     "shell.execute_reply": "2023-07-13T10:46:58.667451Z"
    },
    "papermill": {
     "duration": 2.018095,
     "end_time": "2023-07-13T10:46:58.671099",
     "exception": false,
     "start_time": "2023-07-13T10:46:56.653004",
     "status": "completed"
    },
    "tags": []
   },
   "outputs": [],
   "source": [
    "import numpy as np\n",
    "import pandas as pd\n",
    "from sklearn.preprocessing import LabelEncoder\n",
    "import requests\n",
    "from io import StringIO\n",
    "import warnings\n",
    "warnings.filterwarnings('ignore')\n",
    "import catboost\n",
    "from catboost import CatBoostRegressor"
   ]
  },
  {
   "cell_type": "code",
   "execution_count": 3,
   "id": "0101becc",
   "metadata": {
    "execution": {
     "iopub.execute_input": "2023-07-13T10:46:58.679886Z",
     "iopub.status.busy": "2023-07-13T10:46:58.679449Z",
     "iopub.status.idle": "2023-07-13T10:46:59.101352Z",
     "shell.execute_reply": "2023-07-13T10:46:59.100280Z"
    },
    "papermill": {
     "duration": 0.428844,
     "end_time": "2023-07-13T10:46:59.103619",
     "exception": false,
     "start_time": "2023-07-13T10:46:58.674775",
     "status": "completed"
    },
    "tags": []
   },
   "outputs": [],
   "source": [
    "train_df = pd.read_csv(\"../input/ituffs/Train.csv\")\n",
    "test_df = pd.read_csv(\"../input/ituffs/Test.csv\")\n",
    "ss = pd.read_csv(\"../input/ituffs/SampleSubmission.csv\")"
   ]
  },
  {
   "cell_type": "code",
   "execution_count": 4,
   "id": "c968ec89",
   "metadata": {
    "execution": {
     "iopub.execute_input": "2023-07-13T10:46:59.112946Z",
     "iopub.status.busy": "2023-07-13T10:46:59.111466Z",
     "iopub.status.idle": "2023-07-13T10:46:59.117490Z",
     "shell.execute_reply": "2023-07-13T10:46:59.116189Z"
    },
    "papermill": {
     "duration": 0.012286,
     "end_time": "2023-07-13T10:46:59.119519",
     "exception": false,
     "start_time": "2023-07-13T10:46:59.107233",
     "status": "completed"
    },
    "tags": []
   },
   "outputs": [],
   "source": [
    "target = \"target\""
   ]
  },
  {
   "cell_type": "code",
   "execution_count": 5,
   "id": "3553fe7b",
   "metadata": {
    "execution": {
     "iopub.execute_input": "2023-07-13T10:46:59.128354Z",
     "iopub.status.busy": "2023-07-13T10:46:59.128001Z",
     "iopub.status.idle": "2023-07-13T10:46:59.168515Z",
     "shell.execute_reply": "2023-07-13T10:46:59.167664Z"
    },
    "papermill": {
     "duration": 0.04748,
     "end_time": "2023-07-13T10:46:59.170651",
     "exception": false,
     "start_time": "2023-07-13T10:46:59.123171",
     "status": "completed"
    },
    "tags": []
   },
   "outputs": [
    {
     "data": {
      "text/plain": [
       "1481"
      ]
     },
     "execution_count": 5,
     "metadata": {},
     "output_type": "execute_result"
    }
   ],
   "source": [
    "train_df[\"xx\"]=train_df.groupby(target)[target].transform(\"count\")\n",
    "train_df=train_df[train_df[\"xx\"]>1]\n",
    "train_df=train_df.drop(\"xx\",axis=1)\n",
    "train_df[\"target\"].nunique()"
   ]
  },
  {
   "cell_type": "code",
   "execution_count": 6,
   "id": "e8bb7c0d",
   "metadata": {
    "execution": {
     "iopub.execute_input": "2023-07-13T10:46:59.180029Z",
     "iopub.status.busy": "2023-07-13T10:46:59.179017Z",
     "iopub.status.idle": "2023-07-13T10:46:59.189835Z",
     "shell.execute_reply": "2023-07-13T10:46:59.188203Z"
    },
    "papermill": {
     "duration": 0.018147,
     "end_time": "2023-07-13T10:46:59.192510",
     "exception": false,
     "start_time": "2023-07-13T10:46:59.174363",
     "status": "completed"
    },
    "tags": []
   },
   "outputs": [
    {
     "data": {
      "text/plain": [
       "101000000.0    103\n",
       "141000000.0     94\n",
       "102000000.0     88\n",
       "107000000.0     87\n",
       "110000000.0     87\n",
       "              ... \n",
       "2120000.0        2\n",
       "9730000.0        2\n",
       "5150000.0        2\n",
       "8360000.0        2\n",
       "9970000.0        2\n",
       "Name: target, Length: 1481, dtype: int64"
      ]
     },
     "execution_count": 6,
     "metadata": {},
     "output_type": "execute_result"
    }
   ],
   "source": [
    "train_df[target].value_counts()"
   ]
  },
  {
   "cell_type": "code",
   "execution_count": 7,
   "id": "d8939bef",
   "metadata": {
    "execution": {
     "iopub.execute_input": "2023-07-13T10:46:59.201499Z",
     "iopub.status.busy": "2023-07-13T10:46:59.201151Z",
     "iopub.status.idle": "2023-07-13T10:46:59.211966Z",
     "shell.execute_reply": "2023-07-13T10:46:59.211032Z"
    },
    "papermill": {
     "duration": 0.017285,
     "end_time": "2023-07-13T10:46:59.213677",
     "exception": false,
     "start_time": "2023-07-13T10:46:59.196392",
     "status": "completed"
    },
    "tags": []
   },
   "outputs": [
    {
     "data": {
      "text/plain": [
       "pc1    19400\n",
       "pc3    14566\n",
       "Name: device, dtype: int64"
      ]
     },
     "execution_count": 7,
     "metadata": {},
     "output_type": "execute_result"
    }
   ],
   "source": [
    "train_df[\"device\"].value_counts()"
   ]
  },
  {
   "cell_type": "code",
   "execution_count": 8,
   "id": "66248ddc",
   "metadata": {
    "execution": {
     "iopub.execute_input": "2023-07-13T10:46:59.224487Z",
     "iopub.status.busy": "2023-07-13T10:46:59.224131Z",
     "iopub.status.idle": "2023-07-13T10:46:59.234905Z",
     "shell.execute_reply": "2023-07-13T10:46:59.233866Z"
    },
    "papermill": {
     "duration": 0.018028,
     "end_time": "2023-07-13T10:46:59.237295",
     "exception": false,
     "start_time": "2023-07-13T10:46:59.219267",
     "status": "completed"
    },
    "tags": []
   },
   "outputs": [
    {
     "data": {
      "text/plain": [
       "1624546748    2\n",
       "1624551351    2\n",
       "1624547690    2\n",
       "1624547622    2\n",
       "1624551307    2\n",
       "             ..\n",
       "1624367902    1\n",
       "1624542101    1\n",
       "1624369420    1\n",
       "1624368572    1\n",
       "1624376571    1\n",
       "Name: timestamp, Length: 27197, dtype: int64"
      ]
     },
     "execution_count": 8,
     "metadata": {},
     "output_type": "execute_result"
    }
   ],
   "source": [
    "train_df[\"timestamp\"].value_counts()"
   ]
  },
  {
   "cell_type": "code",
   "execution_count": 9,
   "id": "d03cbbfc",
   "metadata": {
    "execution": {
     "iopub.execute_input": "2023-07-13T10:46:59.246877Z",
     "iopub.status.busy": "2023-07-13T10:46:59.246506Z",
     "iopub.status.idle": "2023-07-13T10:46:59.278158Z",
     "shell.execute_reply": "2023-07-13T10:46:59.277131Z"
    },
    "papermill": {
     "duration": 0.039037,
     "end_time": "2023-07-13T10:46:59.280411",
     "exception": false,
     "start_time": "2023-07-13T10:46:59.241374",
     "status": "completed"
    },
    "tags": []
   },
   "outputs": [],
   "source": [
    "test_df[\"area\"]=test_df[\"area\"].replace({'Avenue':0, 'Park':1, 'Highway':2, 'Residential':3, 'Tunnel':4})\n",
    "train_df[\"area\"]=train_df[\"area\"].replace({'Avenue':0, 'Park':1, 'Highway':2, 'Residential':3, 'Tunnel':4})"
   ]
  },
  {
   "cell_type": "code",
   "execution_count": 10,
   "id": "248a22e4",
   "metadata": {
    "execution": {
     "iopub.execute_input": "2023-07-13T10:46:59.289917Z",
     "iopub.status.busy": "2023-07-13T10:46:59.289533Z",
     "iopub.status.idle": "2023-07-13T10:46:59.306786Z",
     "shell.execute_reply": "2023-07-13T10:46:59.305613Z"
    },
    "papermill": {
     "duration": 0.02485,
     "end_time": "2023-07-13T10:46:59.309355",
     "exception": false,
     "start_time": "2023-07-13T10:46:59.284505",
     "status": "completed"
    },
    "tags": []
   },
   "outputs": [],
   "source": [
    "test_df[target]=np.nan\n",
    "test_df=test_df[train_df.columns]\n",
    "train_df=train_df.append(test_df)"
   ]
  },
  {
   "cell_type": "code",
   "execution_count": 11,
   "id": "4e2f806c",
   "metadata": {
    "execution": {
     "iopub.execute_input": "2023-07-13T10:46:59.318917Z",
     "iopub.status.busy": "2023-07-13T10:46:59.318476Z",
     "iopub.status.idle": "2023-07-13T10:46:59.446082Z",
     "shell.execute_reply": "2023-07-13T10:46:59.444785Z"
    },
    "papermill": {
     "duration": 0.135268,
     "end_time": "2023-07-13T10:46:59.448589",
     "exception": false,
     "start_time": "2023-07-13T10:46:59.313321",
     "status": "completed"
    },
    "tags": []
   },
   "outputs": [],
   "source": [
    "from datetime import datetime\n",
    "def fix_time(old_time):\n",
    "    new_time=datetime.fromtimestamp(old_time)\n",
    "    return new_time\n",
    "\n",
    "train_df[\"hour\"]=train_df.timestamp.apply(fix_time)\n",
    "train_df[\"hour\"]=train_df[\"hour\"].astype(str).str[11:13].astype(\"int\")\n"
   ]
  },
  {
   "cell_type": "code",
   "execution_count": 12,
   "id": "dc0a27d5",
   "metadata": {
    "execution": {
     "iopub.execute_input": "2023-07-13T10:46:59.458201Z",
     "iopub.status.busy": "2023-07-13T10:46:59.457784Z",
     "iopub.status.idle": "2023-07-13T10:46:59.462426Z",
     "shell.execute_reply": "2023-07-13T10:46:59.461538Z"
    },
    "papermill": {
     "duration": 0.011513,
     "end_time": "2023-07-13T10:46:59.464201",
     "exception": false,
     "start_time": "2023-07-13T10:46:59.452688",
     "status": "completed"
    },
    "tags": []
   },
   "outputs": [],
   "source": [
    "del test_df"
   ]
  },
  {
   "cell_type": "code",
   "execution_count": 13,
   "id": "8534d944",
   "metadata": {
    "execution": {
     "iopub.execute_input": "2023-07-13T10:46:59.474233Z",
     "iopub.status.busy": "2023-07-13T10:46:59.473611Z",
     "iopub.status.idle": "2023-07-13T10:47:00.637612Z",
     "shell.execute_reply": "2023-07-13T10:47:00.636439Z"
    },
    "papermill": {
     "duration": 1.171745,
     "end_time": "2023-07-13T10:47:00.640192",
     "exception": false,
     "start_time": "2023-07-13T10:46:59.468447",
     "status": "completed"
    },
    "tags": []
   },
   "outputs": [
    {
     "data": {
      "text/html": [
       "<div>\n",
       "<style scoped>\n",
       "    .dataframe tbody tr th:only-of-type {\n",
       "        vertical-align: middle;\n",
       "    }\n",
       "\n",
       "    .dataframe tbody tr th {\n",
       "        vertical-align: top;\n",
       "    }\n",
       "\n",
       "    .dataframe thead th {\n",
       "        text-align: right;\n",
       "    }\n",
       "</style>\n",
       "<table border=\"1\" class=\"dataframe\">\n",
       "  <thead>\n",
       "    <tr style=\"text-align: right;\">\n",
       "      <th></th>\n",
       "      <th>id</th>\n",
       "      <th>target</th>\n",
       "    </tr>\n",
       "  </thead>\n",
       "  <tbody>\n",
       "    <tr>\n",
       "      <th>0</th>\n",
       "      <td>Id_hg4i94kfbg</td>\n",
       "      <td>2.801149e+07</td>\n",
       "    </tr>\n",
       "    <tr>\n",
       "      <th>1</th>\n",
       "      <td>Id_j1afeth58t</td>\n",
       "      <td>1.593162e+07</td>\n",
       "    </tr>\n",
       "    <tr>\n",
       "      <th>2</th>\n",
       "      <td>Id_bahkipht8j</td>\n",
       "      <td>1.574192e+07</td>\n",
       "    </tr>\n",
       "    <tr>\n",
       "      <th>3</th>\n",
       "      <td>Id_t1iry5orn0</td>\n",
       "      <td>1.981146e+07</td>\n",
       "    </tr>\n",
       "    <tr>\n",
       "      <th>4</th>\n",
       "      <td>Id_dnlh2w774v</td>\n",
       "      <td>2.492050e+07</td>\n",
       "    </tr>\n",
       "    <tr>\n",
       "      <th>...</th>\n",
       "      <td>...</td>\n",
       "      <td>...</td>\n",
       "    </tr>\n",
       "    <tr>\n",
       "      <th>18238</th>\n",
       "      <td>Id_t4ukpeaxa5</td>\n",
       "      <td>5.571638e+07</td>\n",
       "    </tr>\n",
       "    <tr>\n",
       "      <th>18239</th>\n",
       "      <td>Id_dallii8q6q</td>\n",
       "      <td>4.963461e+07</td>\n",
       "    </tr>\n",
       "    <tr>\n",
       "      <th>18240</th>\n",
       "      <td>Id_p0neksuxwp</td>\n",
       "      <td>8.987807e+07</td>\n",
       "    </tr>\n",
       "    <tr>\n",
       "      <th>18241</th>\n",
       "      <td>Id_s2yku2tuvb</td>\n",
       "      <td>8.929716e+07</td>\n",
       "    </tr>\n",
       "    <tr>\n",
       "      <th>18242</th>\n",
       "      <td>Id_27olkkjknp</td>\n",
       "      <td>8.301989e+07</td>\n",
       "    </tr>\n",
       "  </tbody>\n",
       "</table>\n",
       "<p>18243 rows × 2 columns</p>\n",
       "</div>"
      ],
      "text/plain": [
       "                  id        target\n",
       "0      Id_hg4i94kfbg  2.801149e+07\n",
       "1      Id_j1afeth58t  1.593162e+07\n",
       "2      Id_bahkipht8j  1.574192e+07\n",
       "3      Id_t1iry5orn0  1.981146e+07\n",
       "4      Id_dnlh2w774v  2.492050e+07\n",
       "...              ...           ...\n",
       "18238  Id_t4ukpeaxa5  5.571638e+07\n",
       "18239  Id_dallii8q6q  4.963461e+07\n",
       "18240  Id_p0neksuxwp  8.987807e+07\n",
       "18241  Id_s2yku2tuvb  8.929716e+07\n",
       "18242  Id_27olkkjknp  8.301989e+07\n",
       "\n",
       "[18243 rows x 2 columns]"
      ]
     },
     "execution_count": 13,
     "metadata": {},
     "output_type": "execute_result"
    }
   ],
   "source": [
    "\n",
    "drop_cols=['id', 'target']\n",
    "train_df[\"area_mean\"] = train_df.groupby(\"PCell_Cell_Identity\")[target].transform(\"mean\")\n",
    "\n",
    "test_df=train_df[train_df[target].isna()]\n",
    "train_df=train_df[train_df[target].notna()]\n",
    "train_cols=list(train_df.drop(drop_cols,axis=1).columns)\n",
    "train_df=train_df.replace({np.inf:np.nan,(-1*np.inf):np.nan})\n",
    "test_df=test_df.replace({np.inf:np.nan,(-1*np.inf):np.nan})\n",
    "my_model=CatBoostRegressor(silent=True,learning_rate=0.1, n_estimators=100, cat_features=[\"device\"]).fit(train_df[train_cols],train_df[target])\n",
    "predictions = my_model.predict(test_df[train_cols])\n",
    "submission = pd.DataFrame(data=test_df[\"id\"], columns = [\"id\"])\n",
    "submission[\"target\"] = predictions\n",
    "df1=pd.merge(ss[['id']],submission,on='id',how='left')\n",
    "df1.to_csv('prediction.csv',index=False)\n",
    "\n",
    "df1"
   ]
  },
  {
   "cell_type": "code",
   "execution_count": null,
   "id": "08d1214a",
   "metadata": {
    "papermill": {
     "duration": 0.003859,
     "end_time": "2023-07-13T10:47:00.648429",
     "exception": false,
     "start_time": "2023-07-13T10:47:00.644570",
     "status": "completed"
    },
    "tags": []
   },
   "outputs": [],
   "source": []
  }
 ],
 "metadata": {
  "kernelspec": {
   "display_name": "Python 3",
   "language": "python",
   "name": "python3"
  },
  "language_info": {
   "codemirror_mode": {
    "name": "ipython",
    "version": 3
   },
   "file_extension": ".py",
   "mimetype": "text/x-python",
   "name": "python",
   "nbconvert_exporter": "python",
   "pygments_lexer": "ipython3",
   "version": "3.8.8"
  },
  "papermill": {
   "default_parameters": {},
   "duration": 16.213545,
   "end_time": "2023-07-13T10:47:01.675855",
   "environment_variables": {},
   "exception": null,
   "input_path": "__notebook__.ipynb",
   "output_path": "__notebook__.ipynb",
   "parameters": {},
   "start_time": "2023-07-13T10:46:45.462310",
   "version": "2.4.0"
  }
 },
 "nbformat": 4,
 "nbformat_minor": 5
}
